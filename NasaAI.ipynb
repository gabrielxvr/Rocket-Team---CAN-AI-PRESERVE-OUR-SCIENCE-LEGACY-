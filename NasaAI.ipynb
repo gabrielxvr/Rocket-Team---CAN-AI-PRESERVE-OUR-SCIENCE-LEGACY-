{
 "cells": [
  {
   "cell_type": "code",
   "execution_count": 93,
   "id": "9f3eb82d-70aa-4a8e-873a-6f07a3800c11",
   "metadata": {},
   "outputs": [],
   "source": [
    "import requests, re, json, bs4\n",
    "\n",
    "r = requests.get('https://ntrs.nasa.gov/search')\n",
    "data = json.loads(re.search(r'(\\{.*/api.*\\})', r.text).group(1).replace('&q;','\"'))\n",
    "\n",
    "#data['http://ntrs-proxy-auto-deploy:3001/citations/search']['results'][0].keys()"
   ]
  },
  {
   "cell_type": "code",
   "execution_count": 11,
   "id": "b8fb823c-4193-4bf3-b32a-1ea3f04851a9",
   "metadata": {},
   "outputs": [
    {
     "name": "stdout",
     "output_type": "stream",
     "text": [
      "http://dx.doi.org/10.1103/physrevd.86.083512\n",
      "http://dx.doi.org/10.1103/physrevx.2.041006\n",
      "http://dx.doi.org/10.1103/physrevd.86.044037\n",
      "http://dx.doi.org/10.1103/physrevd.86.033015\n",
      "http://dx.doi.org/10.1103/physrevd.86.063004\n",
      "http://dx.doi.org/10.1103/physrevd.86.063009\n",
      "http://dx.doi.org/10.1103/physrevd.86.103008\n",
      "http://dx.doi.org/10.1103/physrevlett.109.213201\n",
      "http://dx.doi.org/10.1103/physrevlett.109.233201\n",
      "http://dx.doi.org/10.1103/physrevd.86.125013\n",
      "http://dx.doi.org/10.1103/physrevlett.109.232002\n",
      "http://dx.doi.org/10.1103/physrevlett.109.185901\n",
      "http://dx.doi.org/10.1103/physrevd.86.104006\n",
      "http://dx.doi.org/10.1103/physrevd.86.103005\n",
      "http://dx.doi.org/10.1103/physrevlett.109.144101\n",
      "http://dx.doi.org/10.1103/physrevlett.108.181808\n",
      "http://dx.doi.org/10.1103/physrevd.85.123519\n",
      "http://dx.doi.org/10.1103/physrevlett.108.240505\n",
      "http://dx.doi.org/10.1103/physrevd.85.093015\n",
      "http://dx.doi.org/10.1103/physrevlett.107.021301\n",
      "http://dx.doi.org/10.1103/physrevlett.107.025002\n",
      "http://dx.doi.org/10.1103/physrevd.84.022002\n"
     ]
    }
   ],
   "source": [
    "doi_list = []\n",
    "\n",
    "for publi in data['http://ntrs-proxy-auto-deploy:3001/citations/search']['results']:\n",
    "    #print(publi)\n",
    "    for predoi in range (len(publi['sourceIdentifiers'])):\n",
    "        doi = publi['sourceIdentifiers'][predoi].get('number')\n",
    "        \n",
    "        if \"physre\" in str(doi):\n",
    "            print(doi)\n",
    "            doi_list.append(doi)"
   ]
  },
  {
   "cell_type": "code",
   "execution_count": 92,
   "id": "4d1576b5-3f0d-4f91-9704-40211231330e",
   "metadata": {
    "tags": []
   },
   "outputs": [],
   "source": [
    "#import requests\n",
    "\n",
    "#URL = str(doi_list[7])\n",
    "#page = requests.get(URL)\n",
    "\n",
    "#print(page.text)\n",
    "\n",
    "#from bs4 import BeautifulSoup\n",
    "\n",
    "#soup = BeautifulSoup(page.content, \"html.parser\")\n",
    "\n",
    "#print(soup)\n",
    "\n",
    "#results = soup.find(\"p\")\n",
    "#print(results)\n",
    "#print(results.text.strip())"
   ]
  },
  {
   "cell_type": "code",
   "execution_count": 89,
   "id": "4c6fa3c8-9f52-422d-92ae-eba39865fcc5",
   "metadata": {},
   "outputs": [],
   "source": [
    "import requests\n",
    "from bs4 import BeautifulSoup\n",
    "\n",
    "lista_abstracts = []\n",
    "\n",
    "for doi in doi_list:\n",
    "\n",
    "    URL = str(doi)\n",
    "    page = requests.get(URL)\n",
    "    soup = BeautifulSoup(page.content, \"html.parser\")\n",
    "    results = soup.find(\"p\")\n",
    "    Abstract = results.text.strip()\n",
    "    dic = {doi: Abstract}\n",
    "    lista_abstracts.append(dic)"
   ]
  },
  {
   "cell_type": "code",
   "execution_count": 91,
   "id": "9b0dc6ba-1a1a-49f7-9765-9a8e1bc8d5a4",
   "metadata": {
    "collapsed": true,
    "jupyter": {
     "outputs_hidden": true
    },
    "tags": []
   },
   "outputs": [
    {
     "data": {
      "text/plain": [
       "[{'http://dx.doi.org/10.1103/physrevd.86.083512': 'Observed angular positions and redshifts of large-scale structure tracers such as galaxies are affected by gravitational waves through volume distortion and magnification effects. Thus, a gravitational wave background can in principle be probed through clustering statistics of large-scale structures. We calculate the observed angular clustering of galaxies in the presence of a gravitational wave background at linear order including all relativistic effects. For a scale-invariant spectrum of gravitational waves, the effects are most significant at the smallest multipoles (2≤ℓ≤5), but typically suppressed by six or more orders of magnitude with respect to scalar contributions for currently allowed amplitudes of the inflationary gravitational wave background. We also discuss the most relevant second-order terms, corresponding to the distortion of tracer correlation functions by gravitational waves. These provide a natural application of the approach recently developed in Schmidt and Jeong {arXiv:1204.3625 [Phys. Rev. D (to be published)]}.'},\n",
       " {'http://dx.doi.org/10.1103/physrevx.2.041006': 'A number of authors have suggested that nonlinear interactions can enhance resolution of phase shifts beyond the usual Heisenberg scaling of 1/n, where n is a measure of resources such as the number of subsystems of the probe state or the mean photon number of the probe state. These suggestions are based on calculations of “local precision” for particular nonlinear schemes. However, we show that there is no simple connection between the local precision and the average estimation error for these schemes, leading to a scaling puzzle. This puzzle is partially resolved by a careful analysis of iterative implementations of the suggested nonlinear schemes. However, it is shown that the suggested nonlinear schemes are still limited to an exponential scaling in n. (This scaling may be compared to the exponential scaling in n which is achievable if multiple passes are allowed, even for linear schemes.) The question of whether nonlinear schemes may have a scaling advantage in the presence of loss is left open. Our results are based on a new bound for average estimation error that depends on (i)\\xa0an entropic measure of the degree to which the probe state can encode a reference phase value, called the G asymmetry, and (ii)\\xa0any prior information about the phase shift. This bound is asymptotically stronger than bounds based on the variance of the phase-shift generator. The G asymmetry is also shown to directly bound the average information gained per estimate. Our results hold for any prior distribution of the shift parameter, and generalize to estimates of any shift generated by an operator with discrete eigenvalues.'},\n",
       " {'http://dx.doi.org/10.1103/physrevd.86.044037': 'We derive a stationary and axisymmetric black hole solution to quadratic order in the spin angular momentum. The previously found, linear-in-spin terms modify the odd-parity sector of the metric, while the new corrections appear in the even-parity sector. These corrections modify the quadrupole moment, as well as the (coordinate-dependent) location of the event horizon and the ergoregion. Although the linear-in-spin metric is of Petrov type\\xa0D, the quadratic-order terms render it of type\\xa0I. The metric does not possess a second-order Killing tensor or a Carter-like constant. The new metric does not possess closed timelike curves or spacetime regions that violate causality outside of the event horizon. The new, even-parity modifications to the Kerr metric decay less rapidly at spatial infinity than the leading order in spin, odd-parity ones, and thus, the former are more important when considering black holes that are rotating moderately fast. We calculate the modifications to the Hamiltonian, binding energy and Kepler’s third law. These modifications are crucial for the construction of gravitational wave templates for black hole binaries, which will enter at second post-Newtonian order, just like dissipative modifications found previously.'},\n",
       " {'http://dx.doi.org/10.1103/physrevd.86.033015': 'Evidence continues to grow in the MiniBooNE (MB) antineutrino mode supporting a low-energy excess compatible with the MB neutrino mode and possibly also confirming the results of the LSND experiment. At least one sterile neutrino is required to explain the anomalies consistent with the observations of other experiments. At the same time, there is a strong tension between the positive signals of LSND and MB and the null results of νe and νμ disappearance experiments. We explore a scenario, first proposed in [A.\\u2009E. Nelson, Phys. Rev. D 84, 053001 (2011).], where the presence of an additional heavy sterile neutrino (with mass well above an eV) can alleviate tension between LSND, MB and the null results of disappearance experiments. We compare and contrast this 3+1+1 scenario with the more standard 3+1 scenario and carry out global fits to all oscillation data including new 2011 MB ν¯ data. We find that the tension can be somewhat alleviated and that a phenomenologically viable window for the heavy neutrino, consistent with rare decays and big bang nucleosynthesis constraints, can be found if the fifth neutrino has a mass of order 0.3–10\\u2009\\u2009GeV. We also find, however, that the 2011 MB ν¯ data exacerbates the tension with null experiments in both the 3+1 and 3+1+1 models when the lowest energy bins are included, resulting in little improvement in the global fit. We also discuss the implications of an additional neutrino for the reactor and gallium anomalies, and show that an oscillation explanation of the anomalies is disfavored by cosmological considerations, direct searches, and precision electroweak tests.'},\n",
       " {'http://dx.doi.org/10.1103/physrevd.86.063004': 'We place new constraints on the contribution of blazars to the large-scale isotropic gamma-ray background (IGRB) by jointly analyzing the measured source count distribution (log\\ufeffN-log\\ufeffS) of blazars and the measured intensity and anisotropy of the IGRB. We find that these measurements point to a consistent scenario in which unresolved blazars make ≲20% of the IGRB intensity at 1–10\\xa0GeV while accounting for the majority of the measured anisotropy in that energy band. These results indicate that the remaining fraction of the IGRB intensity is made by a component with a low level of intrinsic anisotropy. We determine upper limits on the anisotropy from nonblazar sources, adopting the best-fit parameters of the measured source count distribution to calculate the unresolved blazar anisotropy. In addition, we show that the anisotropy measurement excludes some recently proposed models of the unresolved blazar population.'},\n",
       " {'http://dx.doi.org/10.1103/physrevd.86.063009': 'Considerable recent attention has focussed on the prospects to use the cosmic microwave background (CMB) trispectrum to probe the physics of the early universe. Here we evaluate the probability distribution function (PDF) for the standard estimator τ^nl for the amplitude τnl of the CMB trispectrum both for the null hypothesis (i.e., for Gaussian maps with τnl=0) and for maps with a nonvanishing trispectrum (τnl≠0). We find these PDFs to be highly non-Gaussian in both cases. We also evaluate the variance with which the trispectrum amplitude can be measured, ⟨Δτ^nl2⟩, as a function of its underlying value, τnl. We find a strong dependence of this variance on τnl. We also find that the variance does not, given the highly non-Gaussian nature of the PDF, effectively characterize the distribution. Detailed knowledge of these PDFs will therefore be imperative in order to properly interpret the implications of any given trispectrum measurement. For example, if a CMB experiment with a maximum multipole of lmax\\ufeff=1500 (such as the Planck satellite) measures τ^nl=0 then at the 95%\\xa0confidence level our calculations show that we can conclude τnl≤1005; assuming a Gaussian PDF but with the correct τnl-dependent variance we would incorrectly conclude τnl≤4225; further neglecting the τnl-dependence in the variance we would incorrectly conclude τnl≤361.'},\n",
       " {'http://dx.doi.org/10.1103/physrevd.86.103008': 'It is well-known that allowing for spatial curvature affects constraints on cosmological parameters such as the dark energy equation of state parameters. Here we study the effect of curvature on constraints on parameters used to test general relativity (GR) at cosmological scales, commonly known as modified growth (MG) parameters. While current data taken in the context of the ΛCDM model points to a universe that is spatially flat, this constraint does not necessarily hold in modified gravity theories or even in relativistic inhomogeneous cosmological models. Using the latest cosmological data sets we find that MG parameters are correlated with the curvature parameter Ωk and the constraints on the MG parameters are weakened compared to when Ωk is not included in the parameter analysis. We next use various future simulated data sets, including cosmic microwave background, weak lensing, and Integrated Sachs-Wolfe-galaxy cross-correlations, where the fiducial model is spatially curved but we assume a flat model when fitting the MG parameters. We find the assumption of a spatially flat model on a spatially curved universe does indeed cause an artificial shift in the constraints on the MG parameters, in some cases even producing an apparent deviation from GR in the MG parameter space. For our simulated data, tension with GR begins to manifest itself for fiducial models with |Ωk|≥0.02 and apparent deviations appear for |Ωk|≥0.05. We find that for negatively curved models the apparent deviation is more significant. The manifestation of this apparent deviation from GR due to the assumption of spatial flatness above leads one to conclude that, when using future high-precision data to perform these tests, spatial curvature must be included in the parameter analysis along with the other core cosmological parameters and the MG parameters.'},\n",
       " {'http://dx.doi.org/10.1103/physrevlett.109.213201': 'The NASA/ESA Cassini probe of Saturn analyzed the molecular composition of plumes emanating from one of its moons, Enceladus, and the upper atmosphere of another, Titan. However, interpretation of this data is complicated by the hypervelocity (HV) flybys of up to ∼18\\u2009\\u2009km/sec that cause substantial molecular fragmentation. To interpret this data we use quantum mechanical based reactive force fields to simulate the HV impact of various molecular species and ice clathrates on oxidized titanium surfaces mimicking those in Cassini’s neutral and ion mass spectrometer (INMS). The predicted velocity dependent fragmentation patterns and composition mixing ratios agree with INMS data providing the means for identifying the molecules in the plume. We used our simulations to predict the surface damage from the HV impacts on the INMS interior walls, which we suggest acts as a titanium sublimation pump that could alter the instrument’s readings. These results show how the theory can identify chemical events from hypervelocity impacts in space plumes and atmospheres, providing in turn clues to the internal structure of the corresponding sources (e.g., Enceladus). This may be valuable in steering modifications in future missions.'},\n",
       " {'http://dx.doi.org/10.1103/physrevlett.109.233201': 'Highly efficient and specific energy transfer mechanisms that involve rotation-rotation, vibration-vibration, and vibration-rotation exchange in diatomic molecules are examined theoretically in ultracold H2, D2, and HD self-collisions as a function of initial vibrational level v. The three quasiresonant mechanisms are found to operate for all vibrational levels and yield complex scattering lengths which vary smoothly with v. Exceptions to this trend occur at select high values of v where the scattering lengths are modulated by orders of magnitude corresponding to the location of an s-wave zero-energy resonance in “vibration space.” The quasiresonant mechanisms, which are not very sensitive to the details of the interaction potential, generally control the final distribution of molecular states for any given initial distribution. The zero-energy resonances are more sensitive to the potential and may be used to vibrationally “tune” the interaction strength, similar to methods which vary applied external fields.'},\n",
       " {'http://dx.doi.org/10.1103/physrevd.86.125013': 'Most calculations in cosmological perturbation theory, including those dealing with the inflationary generation of perturbations, their time evolution, and their observational consequences, decompose those perturbations into plane waves (Fourier modes). However, for some calculations, particularly those involving observations performed on a spherical sky, a decomposition into waves of fixed total angular momentum (TAM) may be more appropriate. Here we introduce TAM waves—solutions of fixed total angular momentum to the Helmholtz equation—for three-dimensional scalar, vector, and tensor fields. The vector TAM waves of given total angular momentum can be decomposed further into a set of three basis functions of fixed orbital angular momentum, a set of fixed helicity, or a basis consisting of a longitudinal (L) and two transverse (E and B) TAM waves. The symmetric traceless rank-2 tensor TAM waves can be similarly decomposed into a basis of fixed orbital angular momentum or fixed helicity, or a basis that consists of a longitudinal (L), two vector (VE and VB, of opposite parity), and two tensor (TE and TB, of opposite parity) waves. We show how all of the vector and tensor TAM waves can be obtained by applying derivative operators to scalar TAM waves. This operator approach then allows one to decompose a vector field into three covariant scalar fields for the L, E, and B components and symmetric-traceless-tensor fields into five covariant scalar fields for the L, VE, VB, TE, and TB components. We provide projections of the vector and tensor TAM waves onto vector and tensor spherical harmonics. We provide calculational detail to facilitate the assimilation of this formalism into cosmological calculations. As an example, we calculate the power spectra of the deflection angle for gravitational lensing by density perturbations and by gravitational waves. We comment on an alternative approach to cosmic microwave background fluctuations based on TAM waves. An accompanying paper will work out three-point functions in terms of TAM waves and their relation to the usual Fourier-space bispectra. Our work may have applications elsewhere in field theory and in general relativity.'},\n",
       " {'http://dx.doi.org/10.1103/physrevlett.109.232002': 'We report the first evidence for the ηb(2S) using the hb(2P)→ηb(2S)γ transition and the first observation of the hb(1P)→ηb(1S)γ and hb(2P)→ηb(1S)γ transitions. The mass and width of the ηb(1S) and ηb(2S) are measured to be mηb(1S)=(9402.4±1.5±1.8)\\u2009\\u2009MeV/c2, mηb(2S)=(9999.0±3.5−1.9+2.8)\\u2009\\u2009MeV/c2, and Γηb(1S)=(10.8−3.7−2.0+4.0+4.5)\\u2009\\u2009MeV. We also update the hb(1P) and hb(2P) mass measurements. We use a 133.4\\u2009\\u2009fb−1 data sample collected at energies near the Υ(5S) resonance with the Belle detector at the KEKB asymmetric-energy e+e− collider.'},\n",
       " {'http://dx.doi.org/10.1103/physrevlett.109.185901': 'Recent studies of Cu-Zr glasses have reported a rapid variation in the amorphous phase density near the optimal glass forming compositions, supporting the belief that the densest liquids are also the best glass formers. Here, we show that the measured densities of the Cu-Zr liquids at higher temperatures are not peaked sharply near these compositions, but the volume expansivities are. Theoretical studies have shown that the expansivity correlates with fragility near Tg; the experimental results presented here show that at high temperature they become anticorrelated. From energy landscape arguments, this indicates the existence of a crossover temperature for the expansivity-fragility correlation that scales inversely with the liquid fragility. These results lead to an improved understanding of the high temperature properties of liquids that form glasses and suggest a new method for identifying the best glass forming compositions within an alloy system from the properties of the equilibrium liquids.'},\n",
       " {'http://dx.doi.org/10.1103/physrevd.86.104006': 'There is a well-known, intuitive geometric correspondence between high-frequency quasinormal modes of Schwarzschild black holes and null geodesics that reside on the light ring (often called spherical photon orbits): the real part of the mode’s frequency relates to the geodesic’s orbital frequency, and the imaginary part of the frequency corresponds to the Lyapunov exponent of the orbit. For slowly rotating black holes, the quasinormal mode’s real frequency is a linear combination of the orbit’s precessional and orbital frequencies, but the correspondence is otherwise unchanged. In this paper, we find a relationship between the quasinormal-mode frequencies of Kerr black holes of arbitrary (astrophysical) spins and general spherical photon orbits, which is analogous to the relationship for slowly rotating holes. To derive this result, we first use the Wentzel-Kramers-Brillouin approximation to compute accurate algebraic expressions for large-l quasinormal-mode frequencies. Comparing our Wentzel-Kramers-Brillouin calculation to the leading-order, geometric-optics approximation to scalar-wave propagation in the Kerr spacetime, we then draw a correspondence between the real parts of the parameters of a quasinormal mode and the conserved quantities of spherical photon orbits. At next-to-leading order in this comparison, we relate the imaginary parts of the quasinormal-mode parameters to coefficients that modify the amplitude of the scalar wave. With this correspondence, we find a geometric interpretation of two features of the quasinormal-mode spectrum of Kerr black holes: First, for Kerr holes rotating near the maximal rate, a large number of modes have nearly zero damping; we connect this characteristic to the fact that a large number of spherical photon orbits approach the horizon in this limit. Second, for black holes of any spins, the frequencies of specific sets of modes are degenerate; we find that this feature arises when the spherical photon orbits corresponding to these modes form closed (as opposed to ergodically winding) curves.'},\n",
       " {'http://dx.doi.org/10.1103/physrevd.86.103005': 'We study the evolution of an inflation-generated magnetic field, due to its coupling to fluid motions, during cosmological phase transitions. We find that the magnetic field stays almost unchanged on large scales, while on small scales, the spectrum is modified in such a way that power at small scales becomes progressively suppressed. We also show that the magnetic field generates turbulent motions in the initially turbulence-free plasma. On large scales, the slope of the resulting kinetic energy spectrum is consistent with that of white noise.'},\n",
       " {'http://dx.doi.org/10.1103/physrevlett.109.144101': 'The method of surrogates is one of the key concepts of nonlinear data analysis. Here, we demonstrate that commonly used algorithms for generating surrogates often fail to generate truly linear time series. Rather, they create surrogate realizations with Fourier phase correlations leading to nondetections of nonlinearities. We argue that reliable surrogates can only be generated, if one tests separately for static and dynamic nonlinearities.'},\n",
       " {'http://dx.doi.org/10.1103/physrevlett.108.181808': 'We report first observations of Bs0→J/ψη and Bs0→J/ψη′. The results are obtained from 121.4\\u2009\\u2009fb−1 of data collected at the Υ(5S) resonance with the Belle detector at the KEKB e+e− collider. We obtain the branching fractions B(Bs0→J/ψη)=[5.10±0.50(stat)±0.25(syst)−0.79+1.14(NBs(*)B¯s(*))]×10−4, and B(Bs0→J/ψη′)=[3.71±0.61(stat)±0.18(syst)−0.57+0.83(NBs(*)B¯s(*))]×10−4. The ratio of the two branching fractions is measured to be B(Bs→J/ψη′)B(Bs→J/ψη)=0.73±0.14(stat)±0.02(syst).'},\n",
       " {'http://dx.doi.org/10.1103/physrevd.85.123519': 'We present a new scheme for the general computation of cosmic propagators that allow to interpolate between standard perturbative results at low k and their expected large-k resummed behavior. This scheme is applicable to any multipoint propagator and allows the matching of perturbative low-k calculations to any number of loops to their large-k behavior, and can potentially be applied in case of nonstandard cosmological scenarios such as those with non-Gaussian initial conditions. The validity of our proposal is checked against previous prescriptions and measurements in numerical simulations showing a remarkably good agreement. Such a generic prescription for multipoint propagators provides the necessary building blocks for the computation of polyspectra in the context of the so-called Γ expansion introduced by F. Bernardeau, M. Crocce, and R. ScoccimarroPhys. Rev. D 78, 103521 (2008).. As a concrete application we present a consistent calculation of the matter bispectrum at one-loop order.'},\n",
       " {'http://dx.doi.org/10.1103/physrevlett.108.240505': 'Ground states of spin lattices can serve as a resource for measurement-based quantum computation. Ideally, the ability to perform quantum gates via measurements on such states would be insensitive to small variations in the Hamiltonian. Here, we describe a class of symmetry-protected topological orders in one-dimensional systems, any one of which ensures the perfect operation of the identity gate. As a result, measurement-based quantum gates can be a robust property of an entire phase in a quantum spin lattice, when protected by an appropriate symmetry.'},\n",
       " {'http://dx.doi.org/10.1103/physrevd.85.093015': 'Employing our previous framework to treat nonperturbative effects self-consistently, including duality violations, we update the determination of the strong coupling, αs, using a modified version of the 1998 OPAL data, updated to reflect current values of exclusive-mode hadronic τ-decay branching fractions. Our best nf=3 values from the updated OPAL data are αs(mτ2)=0.325±0.018 and αs(mτ2)=0.347±0.025 in fixed-order and contour-improved perturbation theory, respectively. To account for nonperturbative effects, nonlinear, multiparameter fits are necessary. We have, therefore, investigated the posterior probability distribution of the model parameters underlying our fits in more detail. We find that OPAL data alone provide only weak constraints on some of the parameters needed to model duality violations, especially in the case of fits involving axial-vector channel data, making additional prior assumptions on the expected size of these parameters necessary at present. We provide evidence that this situation could be greatly improved if hadronic spectral functions based on the high-statistics BABAR and Belle data were to be made available.'},\n",
       " {'http://dx.doi.org/10.1103/physrevlett.107.021301': 'We report the first detection of the gravitational lensing of the cosmic microwave background through a measurement of the four-point correlation function in the temperature maps made by the Atacama Cosmology Telescope. We verify our detection by calculating the levels of potential contaminants and performing a number of null tests. The resulting convergence power spectrum at 2° angular scales measures the amplitude of matter density fluctuations on comoving length scales of around 100\\xa0Mpc at redshifts around 0.5 to 3. The measured amplitude of the signal agrees with Lambda cold dark matter cosmology predictions. Since the amplitude of the convergence power spectrum scales as the square of the amplitude of the density fluctuations, the 4σ detection of the lensing signal measures the amplitude of density fluctuations to 12%.'},\n",
       " {'http://dx.doi.org/10.1103/physrevlett.107.025002': 'Using fully kinetic simulations of the island coalescence problem for a range of system sizes greatly exceeding kinetic scales, the phenomenon of flux pileup in the collisionless regime is demonstrated. While small islands on the scale of λ≤5 ion inertial length (di) coalesce rapidly and do not support significant flux pileup, coalescence of larger islands is characterized by large flux pileup and a weaker time averaged reconnection rate that scales as di/λ while the peak rate remains nearly independent of island size. For the largest islands (λ=100di), reconnection is bursty and nearly shuts off after the first bounce, reconnecting ∼20% of the available flux.'},\n",
       " {'http://dx.doi.org/10.1103/physrevd.84.022002': 'The future space-based gravitational wave detector LISA will be able to measure parameters of coalescing massive black hole binaries, often to extremely high accuracy. Previous work has demonstrated that the black hole spins can have a strong impact on the accuracy of parameter measurement. Relativistic spin-induced precession modulates the waveform in a manner which can break degeneracies between parameters, in principle significantly improving how well they are measured. Recent studies have indicated, however, that spin precession may be weak for an important subset of astrophysical binary black holes: those in which the spins are aligned due to interactions with gas. In this paper, we examine how well a binary’s parameters can be measured when its spins are partially aligned and compare results using waveforms that include higher post-Newtonian harmonics to those that are truncated at leading quadrupole order. We find that the weakened precession can substantially degrade parameter estimation. This degradation is particularly devastating for the extrinsic parameters sky position and distance. Absent higher harmonics, LISA typically localizes the sky position of a nearly aligned binary a factor of ∼6 less accurately than for one in which the spin orientations are random. Our knowledge of a source’s sky position will thus be worst for the gas-rich systems which are most likely to produce electromagnetic counterparts. Fortunately, higher harmonics of the waveform can make up for this degradation. By including harmonics beyond the quadrupole in our waveform model, we find that the accuracy with which most of the binary’s parameters are measured can be substantially improved. In some cases, parameters can be measured as well in partially aligned binaries as they can be when the binary spins are random.'}]"
      ]
     },
     "execution_count": 91,
     "metadata": {},
     "output_type": "execute_result"
    }
   ],
   "source": [
    "lista_abstracts"
   ]
  },
  {
   "cell_type": "code",
   "execution_count": 99,
   "id": "da25a427-4046-4fa5-833c-455ee66fd521",
   "metadata": {},
   "outputs": [
    {
     "name": "stderr",
     "output_type": "stream",
     "text": [
      "[nltk_data] Downloading package punkt to\n",
      "[nltk_data]     C:\\Users\\joao220064\\AppData\\Roaming\\nltk_data...\n",
      "[nltk_data]   Unzipping tokenizers\\punkt.zip.\n"
     ]
    },
    {
     "data": {
      "text/plain": [
       "True"
      ]
     },
     "execution_count": 99,
     "metadata": {},
     "output_type": "execute_result"
    }
   ],
   "source": [
    "#pip install nltk==3.5\n",
    "from nltk.tokenize import sent_tokenize, word_tokenize\n",
    "\n",
    "import nltk\n",
    "nltk.download('punkt')"
   ]
  },
  {
   "cell_type": "code",
   "execution_count": 115,
   "id": "231fa274-7a3b-4bc2-b1d5-4eb399c19eeb",
   "metadata": {},
   "outputs": [
    {
     "data": {
      "text/plain": [
       "'Observed angular positions and redshifts of large-scale structure tracers such as galaxies are affected by gravitational waves through volume distortion and magnification effects. Thus, a gravitational wave background can in principle be probed through clustering statistics of large-scale structures. We calculate the observed angular clustering of galaxies in the presence of a gravitational wave background at linear order including all relativistic effects. For a scale-invariant spectrum of gravitational waves, the effects are most significant at the smallest multipoles (2≤ℓ≤5), but typically suppressed by six or more orders of magnitude with respect to scalar contributions for currently allowed amplitudes of the inflationary gravitational wave background. We also discuss the most relevant second-order terms, corresponding to the distortion of tracer correlation functions by gravitational waves. These provide a natural application of the approach recently developed in Schmidt and Jeong {arXiv:1204.3625 [Phys. Rev. D (to be published)]}.'"
      ]
     },
     "execution_count": 115,
     "metadata": {},
     "output_type": "execute_result"
    }
   ],
   "source": [
    "lista_abstracts[0].get('http://dx.doi.org/10.1103/physrevd.86.083512')"
   ]
  },
  {
   "cell_type": "code",
   "execution_count": 117,
   "id": "403ab1e1-cbb8-4375-a661-073bac338504",
   "metadata": {},
   "outputs": [
    {
     "data": {
      "text/plain": [
       "['Observed angular positions and redshifts of large-scale structure tracers such as galaxies are affected by gravitational waves through volume distortion and magnification effects.',\n",
       " 'Thus, a gravitational wave background can in principle be probed through clustering statistics of large-scale structures.',\n",
       " 'We calculate the observed angular clustering of galaxies in the presence of a gravitational wave background at linear order including all relativistic effects.',\n",
       " 'For a scale-invariant spectrum of gravitational waves, the effects are most significant at the smallest multipoles (2≤ℓ≤5), but typically suppressed by six or more orders of magnitude with respect to scalar contributions for currently allowed amplitudes of the inflationary gravitational wave background.',\n",
       " 'We also discuss the most relevant second-order terms, corresponding to the distortion of tracer correlation functions by gravitational waves.',\n",
       " 'These provide a natural application of the approach recently developed in Schmidt and Jeong {arXiv:1204.3625 [Phys.',\n",
       " 'Rev.',\n",
       " 'D (to be published)]}.']"
      ]
     },
     "execution_count": 117,
     "metadata": {},
     "output_type": "execute_result"
    }
   ],
   "source": [
    "sent_tokenize(lista_abstracts[0].get('http://dx.doi.org/10.1103/physrevd.86.083512'))"
   ]
  },
  {
   "cell_type": "code",
   "execution_count": null,
   "id": "e445f2bd-bb01-48c7-a0d4-5c92dc55eb11",
   "metadata": {},
   "outputs": [],
   "source": []
  }
 ],
 "metadata": {
  "kernelspec": {
   "display_name": "ilumpy",
   "language": "python",
   "name": "ilumpy"
  },
  "language_info": {
   "codemirror_mode": {
    "name": "ipython",
    "version": 3
   },
   "file_extension": ".py",
   "mimetype": "text/x-python",
   "name": "python",
   "nbconvert_exporter": "python",
   "pygments_lexer": "ipython3",
   "version": "3.9.7"
  }
 },
 "nbformat": 4,
 "nbformat_minor": 5
}
