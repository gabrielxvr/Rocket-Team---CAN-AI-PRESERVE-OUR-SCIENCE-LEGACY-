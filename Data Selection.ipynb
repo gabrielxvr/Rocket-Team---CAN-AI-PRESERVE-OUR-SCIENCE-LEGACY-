{
 "cells": [
  {
   "cell_type": "code",
   "execution_count": 7,
   "id": "684ab481-fe77-4f5c-b017-28d75a989d87",
   "metadata": {},
   "outputs": [],
   "source": [
    "import requests, re, json, bs4\n",
    "\n",
    "r = requests.get('https://ntrs.nasa.gov/api/citations/search?abstract=the')\n",
    "data = json.loads(re.search(r'(\\{.*/api.*\\})', r.text).group(1).replace('&q;','\"'))\n",
    "\n",
    "#print(data)"
   ]
  },
  {
   "cell_type": "code",
   "execution_count": null,
   "id": "7f03acae-f710-4561-a299-62ff42602bf0",
   "metadata": {
    "tags": []
   },
   "outputs": [],
   "source": [
    "Abstract_list = []\n",
    "ID_list = []\n",
    "Title_list = []\n",
    "\n",
    "for publi in data['results']:\n",
    "    #print(publi)\n",
    "    abstract = publi['abstract']\n",
    "    ID = publi['id']\n",
    "    Title = publi['title']\n",
    "    Title_list.append(Title)\n",
    "    ID_list.append(ID)\n",
    "    Abstract_list.append(abstract)"
   ]
  },
  {
   "cell_type": "code",
   "execution_count": 27,
   "id": "06e268ff-fba0-4f3f-83e0-b6e7b4d48107",
   "metadata": {},
   "outputs": [],
   "source": [
    "dic_NTRS = {'Title': Title_list, 'ID': ID_list, 'Abstract': Abstract_list}\n",
    "\n",
    "import pandas as pd\n",
    "\n",
    "df_NTRS = pd.DataFrame.from_dict(dic_NTRS)\n",
    "NTRS_Table = df_NTRS.to_csv(index=False)\n",
    "\n",
    "#print(df_NTRS.head(5))"
   ]
  }
 ],
 "metadata": {
  "kernelspec": {
   "display_name": "Python 3 (ipykernel)",
   "language": "python",
   "name": "python3"
  },
  "language_info": {
   "codemirror_mode": {
    "name": "ipython",
    "version": 3
   },
   "file_extension": ".py",
   "mimetype": "text/x-python",
   "name": "python",
   "nbconvert_exporter": "python",
   "pygments_lexer": "ipython3",
   "version": "3.9.7"
  }
 },
 "nbformat": 4,
 "nbformat_minor": 5
}
